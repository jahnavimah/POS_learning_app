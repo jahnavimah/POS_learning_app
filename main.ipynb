{
 "cells": [
  {
   "cell_type": "code",
   "execution_count": null,
   "metadata": {},
   "outputs": [
    {
     "name": "stdout",
     "output_type": "stream",
     "text": [
      "Dash is running on http://127.0.0.1:8050/\n",
      "\n",
      " * Serving Flask app \"__main__\" (lazy loading)\n",
      " * Environment: production\n",
      "   WARNING: This is a development server. Do not use it in a production deployment.\n",
      "   Use a production WSGI server instead.\n",
      " * Debug mode: off\n"
     ]
    },
    {
     "name": "stderr",
     "output_type": "stream",
     "text": [
      " * Running on http://127.0.0.1:8050/ (Press CTRL+C to quit)\n",
      "127.0.0.1 - - [08/Oct/2022 15:46:59] \"GET / HTTP/1.1\" 200 -\n",
      "127.0.0.1 - - [08/Oct/2022 15:46:59] \"GET /assets/style.css?m=1658392867.967685 HTTP/1.1\" 200 -\n",
      "127.0.0.1 - - [08/Oct/2022 15:46:59] \"GET /_dash-component-suites/dash/deps/polyfill@7.v2_6_1m1659522771.12.1.min.js HTTP/1.1\" 200 -\n",
      "127.0.0.1 - - [08/Oct/2022 15:46:59] \"GET /_dash-component-suites/dash/deps/react@16.v2_6_1m1659522771.14.0.min.js HTTP/1.1\" 200 -\n",
      "127.0.0.1 - - [08/Oct/2022 15:46:59] \"GET /_dash-component-suites/dash/deps/react-dom@16.v2_6_1m1659522771.14.0.min.js HTTP/1.1\" 200 -\n",
      "127.0.0.1 - - [08/Oct/2022 15:46:59] \"GET /_dash-component-suites/dash/deps/prop-types@15.v2_6_1m1659522771.8.1.min.js HTTP/1.1\" 200 -\n",
      "127.0.0.1 - - [08/Oct/2022 15:46:59] \"GET /_dash-component-suites/dash_bootstrap_components/_components/dash_bootstrap_components.v1_2_1m1659298715.min.js HTTP/1.1\" 200 -\n",
      "127.0.0.1 - - [08/Oct/2022 15:46:59] \"GET /_dash-component-suites/dash/dash-renderer/build/dash_renderer.v2_6_1m1659522771.min.js HTTP/1.1\" 200 -\n",
      "127.0.0.1 - - [08/Oct/2022 15:46:59] \"GET /_dash-component-suites/dash/dcc/dash_core_components.v2_6_1m1659522771.js HTTP/1.1\" 200 -\n",
      "127.0.0.1 - - [08/Oct/2022 15:46:59] \"GET /_dash-component-suites/dash/dcc/dash_core_components-shared.v2_6_1m1659522771.js HTTP/1.1\" 200 -\n",
      "127.0.0.1 - - [08/Oct/2022 15:46:59] \"GET /_dash-component-suites/dash/html/dash_html_components.v2_0_5m1659522771.min.js HTTP/1.1\" 200 -\n",
      "127.0.0.1 - - [08/Oct/2022 15:46:59] \"GET /_dash-component-suites/dash/dash_table/bundle.v5_1_5m1659522771.js HTTP/1.1\" 200 -\n",
      "127.0.0.1 - - [08/Oct/2022 15:46:59] \"GET /_dash-layout HTTP/1.1\" 200 -\n",
      "127.0.0.1 - - [08/Oct/2022 15:46:59] \"GET /_dash-dependencies HTTP/1.1\" 200 -\n",
      "127.0.0.1 - - [08/Oct/2022 15:46:59] \"GET /_favicon.ico?v=2.6.1 HTTP/1.1\" 200 -\n",
      "127.0.0.1 - - [08/Oct/2022 15:46:59] \"POST /_dash-update-component HTTP/1.1\" 200 -\n",
      "127.0.0.1 - - [08/Oct/2022 15:46:59] \"GET /assets/gator.gif HTTP/1.1\" 200 -\n",
      "127.0.0.1 - - [08/Oct/2022 15:46:59] \"GET /assets/hippo.gif HTTP/1.1\" 200 -\n",
      "127.0.0.1 - - [08/Oct/2022 15:47:40] \"POST /_dash-update-component HTTP/1.1\" 200 -\n",
      "127.0.0.1 - - [08/Oct/2022 15:47:40] \"GET /_dash-component-suites/dash/dcc/async-dropdown.js HTTP/1.1\" 200 -\n",
      "127.0.0.1 - - [08/Oct/2022 15:47:40] \"GET /assets/rainbow.gif HTTP/1.1\" 200 -\n",
      "127.0.0.1 - - [08/Oct/2022 15:47:40] \"POST /_dash-update-component HTTP/1.1\" 200 -\n"
     ]
    }
   ],
   "source": [
    "import dash\n",
    "import dash_bootstrap_components as dbc\n",
    "\n",
    "app = dash.Dash(__name__, use_pages=True, external_stylesheets=[dbc.themes.BOOTSTRAP])\n",
    "\n",
    "#dash.register_page(\"home\", layout=\"We're home!\", path=\"/\")\n",
    "\n",
    "navbar = dbc.NavbarSimple(\n",
    "    dbc.DropdownMenu(\n",
    "        [\n",
    "            dbc.DropdownMenuItem(page[\"name\"], href=page[\"path\"])\n",
    "            for page in dash.page_registry.values()\n",
    "            if page[\"module\"] != \"pages.not_found_404\"\n",
    "        ],\n",
    "        nav=True,\n",
    "        label=\"More Pages\"\n",
    "    ),\n",
    "    brand=\"Gramma_gator4Educators\",\n",
    "    color=\"Blue\",\n",
    "    dark=True,\n",
    "    className=\"mb-2\",\n",
    ")\n",
    "\n",
    "app.layout = dbc.Container(\n",
    "    [\n",
    "        navbar,\n",
    "        dash.page_container,\n",
    "    ],\n",
    "    className=\"dbc\",\n",
    "    fluid=True,\n",
    ")\n",
    "\n",
    "if __name__ == \"__main__\":\n",
    "    app.run_server()"
   ]
  },
  {
   "cell_type": "code",
   "execution_count": null,
   "metadata": {},
   "outputs": [],
   "source": []
  }
 ],
 "metadata": {
  "kernelspec": {
   "display_name": "Python 3",
   "language": "python",
   "name": "python3"
  },
  "language_info": {
   "codemirror_mode": {
    "name": "ipython",
    "version": 3
   },
   "file_extension": ".py",
   "mimetype": "text/x-python",
   "name": "python",
   "nbconvert_exporter": "python",
   "pygments_lexer": "ipython3",
   "version": "3.7.3"
  }
 },
 "nbformat": 4,
 "nbformat_minor": 2
}
